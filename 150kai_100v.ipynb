{
 "cells": [
  {
   "cell_type": "code",
   "execution_count": 3,
   "metadata": {},
   "outputs": [
    {
     "data": {
      "text/html": [
       "<div>\n",
       "<style scoped>\n",
       "    .dataframe tbody tr th:only-of-type {\n",
       "        vertical-align: middle;\n",
       "    }\n",
       "\n",
       "    .dataframe tbody tr th {\n",
       "        vertical-align: top;\n",
       "    }\n",
       "\n",
       "    .dataframe thead th {\n",
       "        text-align: right;\n",
       "    }\n",
       "</style>\n",
       "<table border=\"1\" class=\"dataframe\">\n",
       "  <thead>\n",
       "    <tr style=\"text-align: right;\">\n",
       "      <th></th>\n",
       "      <th>0</th>\n",
       "      <th>1</th>\n",
       "      <th>2</th>\n",
       "    </tr>\n",
       "  </thead>\n",
       "  <tbody>\n",
       "    <tr>\n",
       "      <th>0</th>\n",
       "      <td>s</td>\n",
       "      <td>t</td>\n",
       "      <td>p</td>\n",
       "    </tr>\n",
       "    <tr>\n",
       "      <th>1</th>\n",
       "      <td>-5e-05</td>\n",
       "      <td>0.0952</td>\n",
       "      <td>0.04</td>\n",
       "    </tr>\n",
       "    <tr>\n",
       "      <th>2</th>\n",
       "      <td>-4.98e-05</td>\n",
       "      <td>0.096</td>\n",
       "      <td>0.04</td>\n",
       "    </tr>\n",
       "    <tr>\n",
       "      <th>3</th>\n",
       "      <td>-4.96e-05</td>\n",
       "      <td>0.096</td>\n",
       "      <td>0</td>\n",
       "    </tr>\n",
       "    <tr>\n",
       "      <th>4</th>\n",
       "      <td>-4.94e-05</td>\n",
       "      <td>0.096</td>\n",
       "      <td>0.04</td>\n",
       "    </tr>\n",
       "    <tr>\n",
       "      <th>...</th>\n",
       "      <td>...</td>\n",
       "      <td>...</td>\n",
       "      <td>...</td>\n",
       "    </tr>\n",
       "    <tr>\n",
       "      <th>2496</th>\n",
       "      <td>0.000449</td>\n",
       "      <td>0.0928</td>\n",
       "      <td>0.24</td>\n",
       "    </tr>\n",
       "    <tr>\n",
       "      <th>2497</th>\n",
       "      <td>0.0004492</td>\n",
       "      <td>0.0936</td>\n",
       "      <td>0.16</td>\n",
       "    </tr>\n",
       "    <tr>\n",
       "      <th>2498</th>\n",
       "      <td>0.0004494</td>\n",
       "      <td>0.0936</td>\n",
       "      <td>0.2</td>\n",
       "    </tr>\n",
       "    <tr>\n",
       "      <th>2499</th>\n",
       "      <td>0.0004496</td>\n",
       "      <td>0.0944</td>\n",
       "      <td>0.2</td>\n",
       "    </tr>\n",
       "    <tr>\n",
       "      <th>2500</th>\n",
       "      <td>0.0004498</td>\n",
       "      <td>0.092</td>\n",
       "      <td>0.16</td>\n",
       "    </tr>\n",
       "  </tbody>\n",
       "</table>\n",
       "<p>2501 rows × 3 columns</p>\n",
       "</div>"
      ],
      "text/plain": [
       "              0       1     2\n",
       "0             s       t     p\n",
       "1        -5e-05  0.0952  0.04\n",
       "2     -4.98e-05   0.096  0.04\n",
       "3     -4.96e-05   0.096     0\n",
       "4     -4.94e-05   0.096  0.04\n",
       "...         ...     ...   ...\n",
       "2496   0.000449  0.0928  0.24\n",
       "2497  0.0004492  0.0936  0.16\n",
       "2498  0.0004494  0.0936   0.2\n",
       "2499  0.0004496  0.0944   0.2\n",
       "2500  0.0004498   0.092  0.16\n",
       "\n",
       "[2501 rows x 3 columns]"
      ]
     },
     "execution_count": 3,
     "metadata": {},
     "output_type": "execute_result"
    }
   ],
   "source": [
    "import pandas as pd\n",
    "import numpy as np\n",
    "import matplotlib.pyplot as plt\n",
    "import math\n",
    "#以下、STOの部分を任意の名前に変える。\n",
    "\n",
    "\n",
    "#まず、Excelからデータを取り込み、Dataframe型にする。\n",
    "\n",
    "df1 = pd.read_excel('150kai_100v_t.xlsx',sheet_name='a',index=None,header=None,)#Excel\n",
    "df1"
   ]
  },
  {
   "cell_type": "code",
   "execution_count": 7,
   "metadata": {},
   "outputs": [
    {
     "data": {
      "image/png": "[encoded data removed]",
      "text/plain": [
       "<Figure size 350x350 with 3 Axes>"
      ]
     },
     "metadata": {
      "needs_background": "light"
     },
     "output_type": "display_data"
    }
   ],
   "source": [
    "A = np.array(df1)\n",
    "time = A[1:,0]\n",
    "touka = A[1:,1]\n",
    "parus = A[1:,2]\n",
    "ms = time*1000\n",
    "\n",
    "plt.rcParams['xtick.direction'] = 'in'#x軸の目盛線が内向き('in')か外向き('out')か双方向か('inout')\n",
    "plt.rcParams['ytick.direction'] = 'in'#y軸の目盛線が内向き('in')か外向き('out')か双方向か('inout')\n",
    "\n",
    "\n",
    "plt.rcParams['xtick.major.width'] = 1.0#x軸主目盛り線の線幅\n",
    "plt.rcParams['ytick.major.width'] = 1.0#y軸主目盛り線の線幅\n",
    "\n",
    "fig1 = plt.figure( figsize=(3.5, 3.5),dpi=100)#figureオブジェクトからインスタンスを作成。\n",
    "ax = fig1.add_subplot(111)#subplotを作成。\n",
    "\n",
    "ax.plot(ms,touka,color='red',linestyle='-',label='CH1')#透過率の描画。色、線の種類、凡例も設定可能\n",
    "\n",
    "\n",
    "ax.set_xlim([-0.05,0.45])#第1軸x軸の範囲\n",
    "#ax.set_xticks([0,60,120,180,240,300,360])#第1軸x軸の主目盛\n",
    "\n",
    "ax.set_ylim([0,0.2])#第1軸y軸の範囲\n",
    "#ax.set_yticks([0,20,40,60,80,100,120,140])#第1軸y軸の主\n",
    "\n",
    "bx = ax.twinx()\n",
    "by = ax.twiny() \n",
    "\n",
    "bx.plot(ms,parus,color='blue',linestyle='-',label='CH2')#反射率の描画。色、線の種類、凡例も設定可能\n",
    "\n",
    "\n",
    "by.set_xlim([-0.05,0.45])#第1軸x軸の範囲\n",
    "#by.set_xticks([0,60,120,180,240,300,360])#第1軸x軸の主目盛\n",
    "bx.set_ylim([-0.08,4.6])#第1軸y軸の範囲\n",
    "#bx.set_yticks([0,20,40,60,80,100,120,140])#第1軸y軸の主\n",
    "\n",
    "by.tick_params(labelcolor='None')#２軸のx軸の目盛り消す\n",
    "bx.tick_params(labelright='on')\n",
    "\n",
    "\n",
    "h1, l1 = ax.get_legend_handles_labels()#以下3行は凡例表示に必要\n",
    "h2, l2 = bx.get_legend_handles_labels()\n",
    "ax.legend(h1+h2, l1+l2, loc='upper right')\n",
    "\n",
    "ax.set_ylabel(\"CH1 (V)\", {\"fontsize\":12})#横軸のラベルと字の大きさ設定\n",
    "ax.set_xlabel(\"Time (ms)\", {\"fontsize\": 12})#縦軸のラベルと字の大きさ設定\n",
    "bx.set_ylabel(\"CH2 (V)\", {\"fontsize\":12})#横軸のラベルと字の大きさ設定\n",
    "\n",
    "\n",
    "\n",
    "\n",
    "plt.show()"
   ]
  },
  {
   "cell_type": "code",
   "execution_count": 6,
   "metadata": {},
   "outputs": [
    {
     "data": {
      "text/plain": [
       "-0.04"
      ]
     },
     "execution_count": 6,
     "metadata": {},
     "output_type": "execute_result"
    }
   ],
   "source": [
    "parus.min()"
   ]
  },
  {
   "cell_type": "code",
   "execution_count": 8,
   "metadata": {},
   "outputs": [
    {
     "data": {
      "text/plain": [
       "array([0.0616], dtype=object)"
      ]
     },
     "execution_count": 8,
     "metadata": {},
     "output_type": "execute_result"
    }
   ],
   "source": [
    "V_max = parus.max()\n",
    "b = np.where(parus==V_max)\n",
    "touka[b]"
   ]
  },
  {
   "cell_type": "code",
   "execution_count": 9,
   "metadata": {},
   "outputs": [
    {
     "name": "stdout",
     "output_type": "stream",
     "text": [
      "36.44768241167811\n",
      "143.5523175883219\n",
      "46.0\n"
     ]
    }
   ],
   "source": [
    "#回転角の最大値[°]を求める\n",
    "I_0 = touka[0]\n",
    "I = 0.0616\n",
    "r = math.sqrt(I/I_0)\n",
    "print(math.degrees(math.acos(r)))\n",
    "print(math.degrees(math.acos(-r)))\n",
    "\n",
    "#CH2の最大電流値[A]を求める\n",
    "V_max = parus.max()\n",
    "I_max = V_max*10\n",
    "print(I_max)"
   ]
  },
  {
   "cell_type": "code",
   "execution_count": null,
   "metadata": {},
   "outputs": [],
   "source": []
  }
 ],
 "metadata": {
  "kernelspec": {
   "display_name": "Python 3",
   "language": "python",
   "name": "python3"
  },
  "language_info": {
   "codemirror_mode": {
    "name": "ipython",
    "version": 3
   },
   "file_extension": ".py",
   "mimetype": "text/x-python",
   "name": "python",
   "nbconvert_exporter": "python",
   "pygments_lexer": "ipython3",
   "version": "3.7.7"
  }
 },
 "nbformat": 4,
 "nbformat_minor": 4
}
