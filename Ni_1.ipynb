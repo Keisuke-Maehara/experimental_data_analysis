{
 "cells": [
  {
   "cell_type": "code",
   "execution_count": 1,
   "metadata": {},
   "outputs": [],
   "source": [
    "import pandas as pd\n",
    "import numpy as np\n",
    "import matplotlib.pyplot as plt\n",
    "\n",
    "#以下、STOの部分を任意の名前に変える。\n",
    "\n",
    "\n",
    "#まず、Excelからデータを取り込み、Dataframe型にする。\n",
    "\n",
    "df1 = pd.read_excel('Ni.xlsx',sheet_name='5Ksyuusei',index=None,header=None,)#Excelデータの取り込み。シートも指定できる。"
   ]
  },
  {
   "cell_type": "code",
   "execution_count": 55,
   "metadata": {},
   "outputs": [],
   "source": [
    "from scipy import integrate"
   ]
  },
  {
   "cell_type": "code",
   "execution_count": 3,
   "metadata": {},
   "outputs": [
    {
     "data": {
      "text/html": [
       "<div>\n",
       "<style scoped>\n",
       "    .dataframe tbody tr th:only-of-type {\n",
       "        vertical-align: middle;\n",
       "    }\n",
       "\n",
       "    .dataframe tbody tr th {\n",
       "        vertical-align: top;\n",
       "    }\n",
       "\n",
       "    .dataframe thead th {\n",
       "        text-align: right;\n",
       "    }\n",
       "</style>\n",
       "<table border=\"1\" class=\"dataframe\">\n",
       "  <thead>\n",
       "    <tr style=\"text-align: right;\">\n",
       "      <th></th>\n",
       "      <th>0</th>\n",
       "      <th>1</th>\n",
       "      <th>2</th>\n",
       "      <th>3</th>\n",
       "      <th>4</th>\n",
       "      <th>5</th>\n",
       "    </tr>\n",
       "  </thead>\n",
       "  <tbody>\n",
       "    <tr>\n",
       "      <th>0</th>\n",
       "      <td>5min</td>\n",
       "      <td>do</td>\n",
       "      <td>mJ/s</td>\n",
       "      <td>20min</td>\n",
       "      <td>do</td>\n",
       "      <td>mJ/s</td>\n",
       "    </tr>\n",
       "    <tr>\n",
       "      <th>1</th>\n",
       "      <td>0.00383332</td>\n",
       "      <td>304.979</td>\n",
       "      <td>-0.0307883</td>\n",
       "      <td>0.00383332</td>\n",
       "      <td>304.929</td>\n",
       "      <td>0.0179886</td>\n",
       "    </tr>\n",
       "    <tr>\n",
       "      <th>2</th>\n",
       "      <td>0.00716665</td>\n",
       "      <td>304.975</td>\n",
       "      <td>-0.0294947</td>\n",
       "      <td>0.00716665</td>\n",
       "      <td>304.929</td>\n",
       "      <td>0.0189069</td>\n",
       "    </tr>\n",
       "    <tr>\n",
       "      <th>3</th>\n",
       "      <td>0.0105</td>\n",
       "      <td>304.975</td>\n",
       "      <td>-0.0280624</td>\n",
       "      <td>0.0105</td>\n",
       "      <td>304.932</td>\n",
       "      <td>0.0197719</td>\n",
       "    </tr>\n",
       "    <tr>\n",
       "      <th>4</th>\n",
       "      <td>0.0138333</td>\n",
       "      <td>304.976</td>\n",
       "      <td>-0.0265629</td>\n",
       "      <td>0.0138333</td>\n",
       "      <td>304.935</td>\n",
       "      <td>0.0206567</td>\n",
       "    </tr>\n",
       "    <tr>\n",
       "      <th>...</th>\n",
       "      <td>...</td>\n",
       "      <td>...</td>\n",
       "      <td>...</td>\n",
       "      <td>...</td>\n",
       "      <td>...</td>\n",
       "      <td>...</td>\n",
       "    </tr>\n",
       "    <tr>\n",
       "      <th>9247</th>\n",
       "      <td>30.8238</td>\n",
       "      <td>305.045</td>\n",
       "      <td>0.241447</td>\n",
       "      <td>NaN</td>\n",
       "      <td>NaN</td>\n",
       "      <td>NaN</td>\n",
       "    </tr>\n",
       "    <tr>\n",
       "      <th>9248</th>\n",
       "      <td>30.8272</td>\n",
       "      <td>305.045</td>\n",
       "      <td>0.241122</td>\n",
       "      <td>NaN</td>\n",
       "      <td>NaN</td>\n",
       "      <td>NaN</td>\n",
       "    </tr>\n",
       "    <tr>\n",
       "      <th>9249</th>\n",
       "      <td>30.8305</td>\n",
       "      <td>305.045</td>\n",
       "      <td>0.240786</td>\n",
       "      <td>NaN</td>\n",
       "      <td>NaN</td>\n",
       "      <td>NaN</td>\n",
       "    </tr>\n",
       "    <tr>\n",
       "      <th>9250</th>\n",
       "      <td>30.8338</td>\n",
       "      <td>305.045</td>\n",
       "      <td>0.240447</td>\n",
       "      <td>NaN</td>\n",
       "      <td>NaN</td>\n",
       "      <td>NaN</td>\n",
       "    </tr>\n",
       "    <tr>\n",
       "      <th>9251</th>\n",
       "      <td>30.8372</td>\n",
       "      <td>305.044</td>\n",
       "      <td>0.24011</td>\n",
       "      <td>NaN</td>\n",
       "      <td>NaN</td>\n",
       "      <td>NaN</td>\n",
       "    </tr>\n",
       "  </tbody>\n",
       "</table>\n",
       "<p>9252 rows × 6 columns</p>\n",
       "</div>"
      ],
      "text/plain": [
       "               0        1          2           3        4          5\n",
       "0           5min       do       mJ/s       20min       do       mJ/s\n",
       "1     0.00383332  304.979 -0.0307883  0.00383332  304.929  0.0179886\n",
       "2     0.00716665  304.975 -0.0294947  0.00716665  304.929  0.0189069\n",
       "3         0.0105  304.975 -0.0280624      0.0105  304.932  0.0197719\n",
       "4      0.0138333  304.976 -0.0265629   0.0138333  304.935  0.0206567\n",
       "...          ...      ...        ...         ...      ...        ...\n",
       "9247     30.8238  305.045   0.241447         NaN      NaN        NaN\n",
       "9248     30.8272  305.045   0.241122         NaN      NaN        NaN\n",
       "9249     30.8305  305.045   0.240786         NaN      NaN        NaN\n",
       "9250     30.8338  305.045   0.240447         NaN      NaN        NaN\n",
       "9251     30.8372  305.044    0.24011         NaN      NaN        NaN\n",
       "\n",
       "[9252 rows x 6 columns]"
      ]
     },
     "execution_count": 3,
     "metadata": {},
     "output_type": "execute_result"
    }
   ],
   "source": [
    "df1"
   ]
  },
  {
   "cell_type": "code",
   "execution_count": 2,
   "metadata": {},
   "outputs": [
    {
     "data": {
      "text/plain": [
       "0.001440677966101695"
      ]
     },
     "execution_count": 2,
     "metadata": {},
     "output_type": "execute_result"
    }
   ],
   "source": [
    "#Ni85mgのmol\n",
    "n_Ni = 85/1000/59\n",
    "n_Ni"
   ]
  },
  {
   "cell_type": "code",
   "execution_count": 3,
   "metadata": {},
   "outputs": [
    {
     "data": {
      "text/plain": [
       "(9252, 6)"
      ]
     },
     "execution_count": 3,
     "metadata": {},
     "output_type": "execute_result"
    }
   ],
   "source": [
    "Ni = np.array(df1)\n",
    "Ni.shape"
   ]
  },
  {
   "cell_type": "code",
   "execution_count": 4,
   "metadata": {},
   "outputs": [],
   "source": [
    "Ni_5min = Ni[1:,0]\n",
    "Ni_5sec = Ni_5min*60\n",
    "Ni_20min = Ni[1:,3]\n",
    "Ni_20sec = Ni_20min*60"
   ]
  },
  {
   "cell_type": "code",
   "execution_count": 5,
   "metadata": {},
   "outputs": [],
   "source": [
    "Ni_5do = Ni[1:,1]\n",
    "Ni_5k = Ni_5do+273\n",
    "Ni_20do = Ni[1:,4]\n",
    "Ni_20k = Ni_20do+273"
   ]
  },
  {
   "cell_type": "code",
   "execution_count": 6,
   "metadata": {},
   "outputs": [],
   "source": [
    "Ni_5mw = Ni[1:,2]\n",
    "Ni_5w = Ni_5mw/1000\n",
    "Ni_20mw = Ni[1:,5]\n",
    "Ni_20w = Ni_20mw/1000"
   ]
  },
  {
   "cell_type": "code",
   "execution_count": 7,
   "metadata": {},
   "outputs": [],
   "source": [
    "Ni_5y = Ni_5w*12\n",
    "Ni_20y = Ni_20w*3"
   ]
  },
  {
   "cell_type": "code",
   "execution_count": 8,
   "metadata": {},
   "outputs": [],
   "source": [
    "T_0 = np.zeros(9251)"
   ]
  },
  {
   "cell_type": "code",
   "execution_count": 9,
   "metadata": {},
   "outputs": [
    {
     "data": {
      "image/png": "[encoded data removed]",
      "text/plain": [
       "<Figure size 350x350 with 3 Axes>"
      ]
     },
     "metadata": {
      "needs_background": "light"
     },
     "output_type": "display_data"
    }
   ],
   "source": [
    "#熱容量の温度依存性の描画\n",
    "\n",
    "plt.rcParams['xtick.direction'] = 'in'#x軸の目盛線が内向き('in')か外向き('out')か双方向か('inout')\n",
    "plt.rcParams['ytick.direction'] = 'in'#y軸の目盛線が内向き('in')か外向き('out')か双方向か('inout')\n",
    "\n",
    "\n",
    "plt.rcParams['xtick.major.width'] = 1.0#x軸主目盛り線の線幅\n",
    "plt.rcParams['ytick.major.width'] = 1.0#y軸主目盛り線の線幅\n",
    "\n",
    "fig1 = plt.figure( figsize=(3.5, 3.5),dpi=100)#figureオブジェクトからインスタンスを作成。\n",
    "ax = fig1.add_subplot(111)#subplotを作成。\n",
    "\n",
    "ax.plot(Ni_5k,Ni_5y,color='red',linestyle='-',label='5 K/min')#透過率の描画。色、線の種類、凡例も設定可能\n",
    "ax.plot(Ni_20k,Ni_20y,color='yellow',linestyle='-',label='20 K/min')#反射率の描画。色、線の種類、凡例も設定可能\n",
    "#ax.plot(Ni_5k,T_0,color='black',linestyle='-',)#透過率の描画。色、線の種類、凡例も設定可能\n",
    "\n",
    "\n",
    "ax.set_ylabel(\"Heat capacity (J/K)\", {\"fontsize\":10})#横軸のラベルと字の大きさ設定\n",
    "ax.set_xlabel(\"Temperature (K) \", {\"fontsize\": 10})#縦軸のラベルと字の大きさ設定\n",
    "\n",
    "ax.set_xlim([570,650])#第1軸x軸の範囲\n",
    "ax.set_xticks([570,580,590,600,610,620,630,640,650])#第1軸x軸の主目盛り\n",
    "\n",
    "ax.set_ylim([-0.05,0.05])#第1軸y軸の範囲\n",
    "ax.set_yticks([-0.06,-0.05,-0.04,-0.03,-0.02,-0.01,0,0.01,0.02,0.03,0.04,0.05,0.06])#第1軸y軸の主目盛り\n",
    "\n",
    "ax.set_ylabel(\"Heat capacity (J/K)\", {\"fontsize\":10})#横軸のラベルと字の大きさ設定\n",
    "ax.set_xlabel(\"Temperature (K) \", {\"fontsize\": 10})#縦軸のラベルと字の大きさ設定\n",
    "\n",
    "bx = ax.twinx()\n",
    "by = ax.twiny() \n",
    "by.set_xlim([570,650])#第1軸x軸の範囲\n",
    "by.set_xticks([570,580,590,600,610,620,630,640,650])#第1軸x軸の主目盛\n",
    "bx.set_ylim([-0.05,0.05])#第1軸y軸の範囲\n",
    "bx.set_yticks([-0.06,-0.05,-0.04,-0.03,-0.02,-0.01,0,0.01,0.02,0.03,0.04,0.05,0.06])#第1軸y軸の主\n",
    "\n",
    "\n",
    "by.tick_params(labelcolor='None')\n",
    "bx.tick_params(labelcolor='None')#第二軸の目盛りの数字を消す\n",
    "\n",
    "from matplotlib.ticker import ScalarFormatter#以下の３文で軸を指数表記に。\n",
    "ax.yaxis.set_major_formatter(ScalarFormatter(useMathText=True))\n",
    "ax.ticklabel_format(style='sci',axis='y',scilimits=(0,0))\n",
    "\n",
    "\n",
    "\n",
    "ax.legend(loc = 'center',prop={'size':8})#これがないと凡例が表示されない\n",
    "plt.show()\n",
    "#上側のグラフが降温過程、下側が昇温過程"
   ]
  },
  {
   "cell_type": "code",
   "execution_count": 13,
   "metadata": {},
   "outputs": [
    {
     "data": {
      "image/png": "[encoded data removed]",
      "text/plain": [
       "<Figure size 350x350 with 3 Axes>"
      ]
     },
     "metadata": {
      "needs_background": "light"
     },
     "output_type": "display_data"
    }
   ],
   "source": [
    "#熱容量の温度依存性とデュロンプティの法則\n",
    "\n",
    "plt.rcParams['xtick.direction'] = 'in'#x軸の目盛線が内向き('in')か外向き('out')か双方向か('inout')\n",
    "plt.rcParams['ytick.direction'] = 'in'#y軸の目盛線が内向き('in')か外向き('out')か双方向か('inout')\n",
    "\n",
    "\n",
    "plt.rcParams['xtick.major.width'] = 1.0#x軸主目盛り線の線幅\n",
    "plt.rcParams['ytick.major.width'] = 1.0#y軸主目盛り線の線幅\n",
    "\n",
    "fig1 = plt.figure( figsize=(3.5, 3.5),dpi=100)#figureオブジェクトからインスタンスを作成。\n",
    "ax = fig1.add_subplot(111)#subplotを作成。\n",
    "\n",
    "d = np.ones(9251)\n",
    "D = 0.036 * d\n",
    "\n",
    "ax.plot(Ni_5k,Ni_5y,color='red',linestyle='-',label='5 K/min')#透過率の描画。色、線の種類、凡例も設定可能\n",
    "ax.plot(Ni_20k,Ni_20y,color='yellow',linestyle='-',label='20 K/min')#反射率の描画。色、線の種類、凡例も設定可能\n",
    "#ax.plot(Ni_5k,T_0,color='black',linestyle='-',)#透過率の描画。色、線の種類、凡例も設定可能\n",
    "ax.plot(Ni_5k,D,color='green',linestyle='-',label='Phonon')#透過率の描画。色、線の種類、凡例も設定可能\n",
    "\n",
    "ax.set_ylabel(\"Heat capacity (J/K)\", {\"fontsize\":10})#横軸のラベルと字の大きさ設定\n",
    "ax.set_xlabel(\"Temperature (K) \", {\"fontsize\": 10})#縦軸のラベルと字の大きさ設定\n",
    "\n",
    "ax.set_xlim([570,650])#第1軸x軸の範囲\n",
    "ax.set_xticks([570,580,590,600,610,620,630,640,650])#第1軸x軸の主目盛り\n",
    "\n",
    "ax.set_ylim([-0.05,0.05])#第1軸y軸の範囲\n",
    "ax.set_yticks([-0.06,-0.05,-0.04,-0.03,-0.02,-0.01,0,0.01,0.02,0.03,0.04,0.05,0.06])#第1軸y軸の主目盛り\n",
    "\n",
    "ax.set_ylabel(\"Heat capacity (J/K)\", {\"fontsize\":10})#横軸のラベルと字の大きさ設定\n",
    "ax.set_xlabel(\"Temperature (K) \", {\"fontsize\": 10})#縦軸のラベルと字の大きさ設定\n",
    "\n",
    "bx = ax.twinx()\n",
    "by = ax.twiny() \n",
    "by.set_xlim([570,650])#第1軸x軸の範囲\n",
    "by.set_xticks([570,580,590,600,610,620,630,640,650])#第1軸x軸の主目盛\n",
    "bx.set_ylim([-0.05,0.05])#第1軸y軸の範囲\n",
    "bx.set_yticks([-0.06,-0.05,-0.04,-0.03,-0.02,-0.01,0,0.01,0.02,0.03,0.04,0.05,0.06])#第1軸y軸の主\n",
    "\n",
    "\n",
    "by.tick_params(labelcolor='None')\n",
    "bx.tick_params(labelcolor='None')#第二軸の目盛りの数字を消す\n",
    "\n",
    "from matplotlib.ticker import ScalarFormatter#以下の３文で軸を指数表記に。\n",
    "ax.yaxis.set_major_formatter(ScalarFormatter(useMathText=True))\n",
    "ax.ticklabel_format(style='sci',axis='y',scilimits=(0,0))\n",
    "\n",
    "\n",
    "\n",
    "ax.legend(loc = 'center',prop={'size':8})#これがないと凡例が表示されない\n",
    "plt.show()\n",
    "#上側のグラフが降温過程、下側が昇温過程"
   ]
  },
  {
   "cell_type": "code",
   "execution_count": 12,
   "metadata": {},
   "outputs": [
    {
     "data": {
      "text/plain": [
       "(9251,)"
      ]
     },
     "execution_count": 12,
     "metadata": {},
     "output_type": "execute_result"
    }
   ],
   "source": [
    "Ni_5k.shape"
   ]
  },
  {
   "cell_type": "code",
   "execution_count": null,
   "metadata": {},
   "outputs": [],
   "source": []
  },
  {
   "cell_type": "code",
   "execution_count": null,
   "metadata": {},
   "outputs": [],
   "source": []
  },
  {
   "cell_type": "code",
   "execution_count": 62,
   "metadata": {},
   "outputs": [
    {
     "data": {
      "text/plain": [
       "577.9752"
      ]
     },
     "execution_count": 62,
     "metadata": {},
     "output_type": "execute_result"
    }
   ],
   "source": [
    "Ni_5k.min()"
   ]
  },
  {
   "cell_type": "code",
   "execution_count": 7,
   "metadata": {},
   "outputs": [
    {
     "data": {
      "image/png": "[encoded data removed]",
      "text/plain": [
       "<Figure size 350x350 with 3 Axes>"
      ]
     },
     "metadata": {
      "needs_background": "light"
     },
     "output_type": "display_data"
    }
   ],
   "source": [
    "#エントロピーの時間変化\n",
    "\n",
    "#データ作成\n",
    "s_5k = Ni_5w/Ni_5k\n",
    "\n",
    "\n",
    "\n",
    "plt.rcParams['xtick.direction'] = 'in'#x軸の目盛線が内向き('in')か外向き('out')か双方向か('inout')\n",
    "plt.rcParams['ytick.direction'] = 'in'#y軸の目盛線が内向き('in')か外向き('out')か双方向か('inout')\n",
    "\n",
    "\n",
    "plt.rcParams['xtick.major.width'] = 1.0#x軸主目盛り線の線幅\n",
    "plt.rcParams['ytick.major.width'] = 1.0#y軸主目盛り線の線幅\n",
    "\n",
    "fig1 = plt.figure( figsize=(3.5, 3.5),dpi=100)#figureオブジェクトからインスタンスを作成。\n",
    "ax = fig1.add_subplot(111)#subplotを作成。\n",
    "\n",
    "ax.plot(Ni_5sec,s_5k,color='red',linestyle='-',label='5 K/min')#透過率の描画。色、線の種類、凡例も設定可能\n",
    "\n",
    "ax.set_ylabel(\"Entropy (J/K s)\", {\"fontsize\":10})#横軸のラベルと字の大きさ設定\n",
    "ax.set_xlabel(\"Time (s) \", {\"fontsize\": 10})#縦軸のラベルと字の大きさ設定\n",
    "\n",
    "ax.set_xlim([0,1900])#第1軸x軸の範囲\n",
    "ax.set_xticks([0,300,600,900,1200,1500,1800])#第1軸x軸の主目盛り\n",
    "\n",
    "ax.set_ylim([-0.000008,0.000008])#第1軸y軸の範囲\n",
    "ax.set_yticks([-0.000008,-0.000006,-0.000004,-0.000002,0,0.000002,0.000004,0.000006,0.000008])#第1軸y軸の主目盛り\n",
    "\n",
    "bx = ax.twinx()\n",
    "by = ax.twiny() \n",
    "by.set_xlim([0,1900])#第1軸x軸の範囲\n",
    "by.set_xticks([0,300,600,900,1200,1500,1800])#第1軸x軸\n",
    "bx.set_ylim([-0.000008,0.000008])#第1軸y軸の範囲\n",
    "bx.set_yticks([-0.000008,-0.000006,-0.000004,-0.000002,0,0.000002,0.000004,0.000006,0.000008])#第1軸y軸の\n",
    "\n",
    "\n",
    "by.tick_params(labelcolor='None')\n",
    "bx.tick_params(labelcolor='None')#第二軸の目盛りの数字を消す\n",
    "\n",
    "from matplotlib.ticker import ScalarFormatter#以下の３文で軸を指数表記に。\n",
    "ax.yaxis.set_major_formatter(ScalarFormatter(useMathText=True))\n",
    "ax.ticklabel_format(style='sci',axis='y',scilimits=(0,0))\n",
    "\n",
    "            \n",
    "ax.legend(loc = 'upper left',prop={'size':8})#これがないと凡例が表示されない\n",
    "plt.show()"
   ]
  },
  {
   "cell_type": "code",
   "execution_count": 8,
   "metadata": {},
   "outputs": [
    {
     "data": {
      "image/png": "[encoded data removed]",
      "text/plain": [
       "<Figure size 350x350 with 3 Axes>"
      ]
     },
     "metadata": {
      "needs_background": "light"
     },
     "output_type": "display_data"
    }
   ],
   "source": [
    "#エントロピーの時間変化\n",
    "\n",
    "#データ作成\n",
    "#s_5k = Ni_5w/Ni_5k\n",
    "\n",
    "#fonon\n",
    "f = np.ones(9251)\n",
    "fonon =  0.00000715*f\n",
    "\n",
    "plt.rcParams['xtick.direction'] = 'in'#x軸の目盛線が内向き('in')か外向き('out')か双方向か('inout')\n",
    "plt.rcParams['ytick.direction'] = 'in'#y軸の目盛線が内向き('in')か外向き('out')か双方向か('inout')\n",
    "\n",
    "\n",
    "plt.rcParams['xtick.major.width'] = 1.0#x軸主目盛り線の線幅\n",
    "plt.rcParams['ytick.major.width'] = 1.0#y軸主目盛り線の線幅\n",
    "\n",
    "fig1 = plt.figure( figsize=(3.5, 3.5),dpi=100)#figureオブジェクトからインスタンスを作成。\n",
    "ax = fig1.add_subplot(111)#subplotを作成。\n",
    "\n",
    "ax.plot(Ni_5sec,s_5k,color='red',linestyle='-',label='5 K/min')#透過率の描画。色、線の種類、凡例も設定可能\n",
    "ax.plot(Ni_5sec,fonon,color='green',linestyle='-',label='Phonon')#透過率の描画。色、線の種類、凡例も設定可能\n",
    "\n",
    "\n",
    "ax.set_ylabel(\"Entropy (J/K s)\", {\"fontsize\":10})#横軸のラベルと字の大きさ設定\n",
    "ax.set_xlabel(\"Time (s) \", {\"fontsize\": 10})#縦軸のラベルと字の大きさ設定\n",
    "\n",
    "ax.set_xlim([1000,1800])#第1軸x軸の範囲\n",
    "ax.set_xticks([1000,1200,1400,1600,1800])#第1軸x軸の主目盛り\n",
    "\n",
    "ax.set_ylim([0,0.000007])#第1軸y軸の範囲\n",
    "ax.set_yticks([0,0.000002,0.000004,0.000006,0.000008])#第1軸y軸の主目盛り\n",
    "\n",
    "bx = ax.twinx()\n",
    "by = ax.twiny() \n",
    "by.set_xlim([1000,1800])#第1軸x軸の範囲\n",
    "by.set_xticks([1000,1200,1400,1600,1800])#第1軸x軸の主目盛り\n",
    "bx.set_ylim([0,0.000007])#第1軸y軸の範囲\n",
    "bx.set_yticks([0,0.000002,0.000004,0.000006,0.000008])#第1軸y軸の\n",
    "\n",
    "\n",
    "by.tick_params(labelcolor='None')\n",
    "bx.tick_params(labelcolor='None')#第二軸の目盛りの数字を消す\n",
    "\n",
    "from matplotlib.ticker import ScalarFormatter#以下の３文で軸を指数表記に。\n",
    "ax.yaxis.set_major_formatter(ScalarFormatter(useMathText=True))\n",
    "ax.ticklabel_format(style='sci',axis='y',scilimits=(0,0))\n",
    "\n",
    "\n",
    "            \n",
    "ax.legend(loc = 'center',prop={'size':8})#これがないと凡例が表示されない\n",
    "plt.show()\n",
    "#下の図は降温領域のエントロピー変化"
   ]
  },
  {
   "cell_type": "code",
   "execution_count": 42,
   "metadata": {},
   "outputs": [
    {
     "data": {
      "text/plain": [
       "1800.2298"
      ]
     },
     "execution_count": 42,
     "metadata": {},
     "output_type": "execute_result"
    }
   ],
   "source": [
    "#以下格子比熱の影響を求める\n",
    "np.where(Ni_5sec > 1800)\n",
    "Ni_5sec[9000]"
   ]
  },
  {
   "cell_type": "code",
   "execution_count": 41,
   "metadata": {},
   "outputs": [
    {
     "data": {
      "text/plain": [
       "7.155508502622791e-06"
      ]
     },
     "execution_count": 41,
     "metadata": {},
     "output_type": "execute_result"
    }
   ],
   "source": [
    "s_5k[9000]"
   ]
  },
  {
   "cell_type": "code",
   "execution_count": 43,
   "metadata": {},
   "outputs": [
    {
     "data": {
      "text/plain": [
       "7.417747193163066e-06"
      ]
     },
     "execution_count": 43,
     "metadata": {},
     "output_type": "execute_result"
    }
   ],
   "source": [
    "#entropy_Max\n",
    "s_5k.max()"
   ]
  },
  {
   "cell_type": "code",
   "execution_count": 47,
   "metadata": {},
   "outputs": [
    {
     "data": {
      "text/plain": [
       "(array([6397, 6398, 6399, ..., 8998, 8999, 9000], dtype=int64),)"
      ]
     },
     "execution_count": 47,
     "metadata": {},
     "output_type": "execute_result"
    }
   ],
   "source": [
    "np.where(s_5k > 0.0000071555)"
   ]
  },
  {
   "cell_type": "code",
   "execution_count": 48,
   "metadata": {},
   "outputs": [
    {
     "data": {
      "text/plain": [
       "array([-7.2032688200544245e-06, -7.201031013095372e-06,\n",
       "       -7.198552982896152e-06, ..., -6.73344733833779e-06,\n",
       "       -6.7340342879879595e-06, -6.73461688569836e-06], dtype=object)"
      ]
     },
     "execution_count": 48,
     "metadata": {},
     "output_type": "execute_result"
    }
   ],
   "source": [
    "s_spin = s_5k - 0.00000715\n",
    "s_spin"
   ]
  },
  {
   "cell_type": "code",
   "execution_count": 76,
   "metadata": {},
   "outputs": [
    {
     "data": {
      "image/png": "[encoded data removed]",
      "text/plain": [
       "<Figure size 350x350 with 3 Axes>"
      ]
     },
     "metadata": {
      "needs_background": "light"
     },
     "output_type": "display_data"
    }
   ],
   "source": [
    "#エントロピーの時間変化\n",
    "\n",
    "#データ作成\n",
    "#s_5k = Ni_5w/Ni_5k\n",
    "\n",
    "y = np.zeros(9251)\n",
    "\n",
    "plt.rcParams['xtick.direction'] = 'in'#x軸の目盛線が内向き('in')か外向き('out')か双方向か('inout')\n",
    "plt.rcParams['ytick.direction'] = 'in'#y軸の目盛線が内向き('in')か外向き('out')か双方向か('inout')\n",
    "\n",
    "\n",
    "plt.rcParams['xtick.major.width'] = 1.0#x軸主目盛り線の線幅\n",
    "plt.rcParams['ytick.major.width'] = 1.0#y軸主目盛り線の線幅\n",
    "\n",
    "fig1 = plt.figure( figsize=(3.5, 3.5),dpi=100)#figureオブジェクトからインスタンスを作成。\n",
    "ax = fig1.add_subplot(111)#subplotを作成。\n",
    "\n",
    "ax.plot(Ni_5sec,s_spin,color='red',linestyle='-',label='5 K/min')#透過率の描画。色、線の種類、凡例も設定可能\n",
    "ax.plot(Ni_5sec,y,color='green',linestyle='-',label='Entropy = 0')#透過率の描画。色、線の種類、凡例も設定可\n",
    "\n",
    "ax.set_ylabel(\"Entropy (J/K s)\", {\"fontsize\":10})#横軸のラベルと字の大きさ設定\n",
    "ax.set_xlabel(\"Time (s) \", {\"fontsize\": 10})#縦軸のラベルと字の大きさ設定\n",
    "\n",
    "ax.set_xlim([1000,1800])#第1軸x軸の範囲\n",
    "ax.set_xticks([1000,1200,1400,1600,1800])#第1軸x軸の主目盛り\n",
    "\n",
    "ax.set_ylim([-0.000007,0.000001])#第1軸y軸の範囲\n",
    "ax.set_yticks([-0.000007,-0.000006,-0.000004,-0.000002,0,0.000001])#第1軸y軸の主目盛り\n",
    "\n",
    "bx = ax.twinx()\n",
    "by = ax.twiny() \n",
    "bx.set_ylim([-0.000007,0.000001])#第1軸y軸の範囲\n",
    "bx.set_yticks([-0.000007,-0.000006,-0.000004,-0.000002,0,0.000001])#第1軸y軸の主目盛り\n",
    "\n",
    "by.set_xlim([1000,1800])#第1軸x軸の範囲\n",
    "by.set_xticks([1000,1200,1400,1600,1800])#第1軸x軸の主目盛り\n",
    "\n",
    "\n",
    "\n",
    "by.tick_params(labelcolor='None')\n",
    "bx.tick_params(labelcolor='None')#第二軸の目盛りの数字を消す\n",
    "\n",
    "from matplotlib.ticker import ScalarFormatter#以下の３文で軸を指数表記に。\n",
    "ax.yaxis.set_major_formatter(ScalarFormatter(useMathText=True))\n",
    "ax.ticklabel_format(style='sci',axis='y',scilimits=(0,0))\n",
    "\n",
    "\n",
    "            \n",
    "ax.legend(loc = 'center',prop={'size':8})#これがないと凡例が表示されない\n",
    "plt.show()\n",
    "#下の図は降温領域のエントロピー変化"
   ]
  },
  {
   "cell_type": "code",
   "execution_count": 50,
   "metadata": {},
   "outputs": [
    {
     "data": {
      "text/plain": [
       "(array([6396, 6397, 6398, ..., 9015, 9016, 9017], dtype=int64),)"
      ]
     },
     "execution_count": 50,
     "metadata": {},
     "output_type": "execute_result"
    }
   ],
   "source": [
    "np.where(s_spin > 0)"
   ]
  },
  {
   "cell_type": "code",
   "execution_count": 54,
   "metadata": {},
   "outputs": [
    {
     "data": {
      "text/plain": [
       "4.1761319872141695e-09"
      ]
     },
     "execution_count": 54,
     "metadata": {},
     "output_type": "execute_result"
    }
   ],
   "source": [
    "s_spin[9017]"
   ]
  },
  {
   "cell_type": "code",
   "execution_count": 57,
   "metadata": {},
   "outputs": [
    {
     "data": {
      "text/plain": [
       "0.02848989731782723"
      ]
     },
     "execution_count": 57,
     "metadata": {},
     "output_type": "execute_result"
    }
   ],
   "source": [
    "entropy = integrate.simps(s_spin[6396:9017],Ni_5sec[6396:9017] )\n",
    "entropy_mol = entropy/n_Ni\n",
    "entropy_mol\n",
    "#降温過程の相転移におけるスピンの1molあたりのエントロピー変化量"
   ]
  },
  {
   "cell_type": "code",
   "execution_count": null,
   "metadata": {},
   "outputs": [],
   "source": []
  }
 ],
 "metadata": {
  "kernelspec": {
   "display_name": "Python 3",
   "language": "python",
   "name": "python3"
  },
  "language_info": {
   "codemirror_mode": {
    "name": "ipython",
    "version": 3
   },
   "file_extension": ".py",
   "mimetype": "text/x-python",
   "name": "python",
   "nbconvert_exporter": "python",
   "pygments_lexer": "ipython3",
   "version": "3.7.7"
  }
 },
 "nbformat": 4,
 "nbformat_minor": 4
}
