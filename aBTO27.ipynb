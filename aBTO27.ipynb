{
 "cells": [
  {
   "cell_type": "code",
   "execution_count": 1,
   "metadata": {},
   "outputs": [
    {
     "name": "stdout",
     "output_type": "stream",
     "text": [
      "                   0     1        2      3         4        5      6   \\\n",
      "0     標準コンデンサCsの容量[F]   NaN      NaN  1e-07  電極面積[m2]    3e-06  膜厚[m]   \n",
      "1                  測定   NaN      NaN    NaN       NaN      NaN    NaN   \n",
      "2                 1回目   NaN      NaN    NaN       NaN      2回目    NaN   \n",
      "3                 CH1   NaN      CH2    NaN       NaN      CH1    NaN   \n",
      "4                t[s]  V[V]     t[s]   V[V]       NaN     t[s]   V[V]   \n",
      "...               ...   ...      ...    ...       ...      ...    ...   \n",
      "2500           0.0498  -0.2   0.0498    0.2       NaN   0.0498      0   \n",
      "2501          0.04984  -0.2  0.04984   0.24       NaN  0.04984      0   \n",
      "2502          0.04988  -0.6  0.04988    0.2       NaN  0.04988   -0.8   \n",
      "2503          0.04992  -0.8  0.04992    0.2       NaN  0.04992   -1.2   \n",
      "2504          0.04996    -1  0.04996    0.2       NaN  0.04996   -1.2   \n",
      "\n",
      "           7     8   9   ...  54       55    56       57    58  59       60  \\\n",
      "0      0.0002   NaN NaN  ... NaN      NaN   NaN      NaN   NaN NaN      NaN   \n",
      "1         NaN   NaN NaN  ... NaN      NaN   NaN      NaN   NaN NaN      NaN   \n",
      "2         NaN   NaN NaN  ... NaN     12回目   NaN      NaN   NaN NaN     13回目   \n",
      "3         CH2   NaN NaN  ... NaN      CH1   NaN      CH2   NaN NaN      CH1   \n",
      "4        t[s]  V[V] NaN  ... NaN     t[s]  V[V]     t[s]  V[V] NaN     t[s]   \n",
      "...       ...   ...  ..  ...  ..      ...   ...      ...   ...  ..      ...   \n",
      "2500   0.0498  0.62 NaN  ... NaN   0.0498     0   0.0498   8.4 NaN   0.0498   \n",
      "2501  0.04984  0.62 NaN  ... NaN  0.04984    -2  0.04984     8 NaN  0.04984   \n",
      "2502  0.04988  0.58 NaN  ... NaN  0.04988    -4  0.04988   7.6 NaN  0.04988   \n",
      "2503  0.04992  0.58 NaN  ... NaN  0.04992    -6  0.04992   7.6 NaN  0.04992   \n",
      "2504  0.04996  0.56 NaN  ... NaN  0.04996    -6  0.04996   7.2 NaN  0.04996   \n",
      "\n",
      "        61       62    63  \n",
      "0      NaN      NaN   NaN  \n",
      "1      NaN      NaN   NaN  \n",
      "2      NaN      NaN   NaN  \n",
      "3      NaN      CH2   NaN  \n",
      "4     V[V]     t[s]  V[V]  \n",
      "...    ...      ...   ...  \n",
      "2500     0   0.0498   9.2  \n",
      "2501     0  0.04984   8.4  \n",
      "2502    -4  0.04988     8  \n",
      "2503    -6  0.04992   7.6  \n",
      "2504    -8  0.04996   7.6  \n",
      "\n",
      "[2505 rows x 64 columns]\n"
     ]
    }
   ],
   "source": [
    "import pandas as pd\n",
    "import numpy as np\n",
    "import matplotlib.pyplot as plt\n",
    "\n",
    "#以下、STOの部分を任意の名前に変える。\n",
    "\n",
    "\n",
    "#まず、Excelからデータを取り込み、Dataframe型にする。\n",
    "\n",
    "df1 = pd.read_excel('BaTiO3.xlsx',sheet_name='27do',index=None,header=None,)#Excelデータの取り込み。シートも指定できる。\n",
    "print(df1)"
   ]
  },
  {
   "cell_type": "code",
   "execution_count": 2,
   "metadata": {},
   "outputs": [],
   "source": [
    "ndarr20 = np.array(df1)#pandasのDataframe型配列をnumpy型配列に変換。\n"
   ]
  },
  {
   "cell_type": "code",
   "execution_count": 3,
   "metadata": {},
   "outputs": [],
   "source": [
    "ndarr13ch1 = ndarr20[5:2505,61]#スライス機能。61列の5行目から2505行目までを取り出す\n",
    "ndarr13ch2 = ndarr20[5:2505,63]#スライス機能。63列の5行目から2505行目までを取り出す\n",
    "E13 = ndarr13ch1/0.0002#E[V/m]を求める\n",
    "e13 = E13/10**(6)#E[MV/m]に直す\n",
    "D13 = ndarr13ch2*(10**(-7))/(3*10**(-6))#D[C/m^2]を求める\n",
    "d13 = D13*1000# D[mC/m^2]に直す\n",
    "\n",
    "ndarr12ch1 = ndarr20[5:2505,56]#スライス機能。61列の5行目から2505行目までを取り出す\n",
    "ndarr12ch2 = ndarr20[5:2505,58]#スライス機能。63列の5行目から2505行目までを取り出す\n",
    "E12 = ndarr12ch1/0.0002#E[V/m]を求める\n",
    "e12 = E12/10**(6)#E[MV/m]に直す\n",
    "D12 = ndarr12ch2*(10**(-7))/(3*10**(-6))#D[C/m^2]を求める\n",
    "d12 = D12*1000# D[mC/m^2]に直す\n",
    "\n",
    "ndarr11ch1 = ndarr20[5:2505,51]#スライス機能。61列の5行目から2505行目までを取り出す\n",
    "ndarr11ch2 = ndarr20[5:2505,53]#スライス機能。63列の5行目から2505行目までを取り出す\n",
    "E11 = ndarr11ch1/0.0002#E[V/m]を求める\n",
    "e11 = E11/10**(6)#E[MV/m]に直す\n",
    "D11 = ndarr11ch2*(10**(-7))/(3*10**(-6))#D[C/m^2]を求める\n",
    "d11 = D11*1000# D[mC/m^2]に直す\n",
    "\n",
    "ndarr10ch1 = ndarr20[5:2505,46]#スライス機能。61列の5行目から2505行目までを取り出す\n",
    "ndarr10ch2 = ndarr20[5:2505,48]#スライス機能。63列の5行目から2505行目までを取り出す\n",
    "E10 = ndarr10ch1/0.0002#E[V/m]を求める\n",
    "e10 = E10/10**(6)#E[MV/m]に直す\n",
    "D10 = ndarr10ch2*(10**(-7))/(3*10**(-6))#D[C/m^2]を求める\n",
    "d10 = D10*1000# D[mC/m^2]に直す\n",
    "\n",
    "ndarr9ch1 = ndarr20[5:2505,41]#スライス機能。61列の5行目から2505行目までを取り出す\n",
    "ndarr9ch2 = ndarr20[5:2505,43]#スライス機能。63列の5行目から2505行目までを取り出す\n",
    "E9 = ndarr9ch1/0.0002#E[V/m]を求める\n",
    "e9 = E9/10**(6)#E[MV/m]に直す\n",
    "D9 = ndarr9ch2*(10**(-7))/(3*10**(-6))#D[C/m^2]を求める\n",
    "d9 = D9*1000# D[mC/m^2]に直す\n",
    "\n",
    "ndarr8ch1 = ndarr20[5:2505,36]#スライス機能。61列の5行目から2505行目までを取り出す\n",
    "ndarr8ch2 = ndarr20[5:2505,38]#スライス機能。63列の5行目から2505行目までを取り出す\n",
    "E8 = ndarr8ch1/0.0002#E[V/m]を求める\n",
    "e8 = E8/10**(6)#E[MV/m]に直す\n",
    "D8 = ndarr8ch2*(10**(-7))/(3*10**(-6))#D[C/m^2]を求める\n",
    "d8 = D8*1000# D[mC/m^2]に直す\n",
    "\n",
    "ndarr7ch1 = ndarr20[5:2505,31]#スライス機能。61列の5行目から2505行目までを取り出す\n",
    "ndarr7ch2 = ndarr20[5:2505,33]#スライス機能。63列の5行目から2505行目までを取り出す\n",
    "E7 = ndarr7ch1/0.0002#E[V/m]を求める\n",
    "e7 = E7/10**(6)#E[MV/m]に直す\n",
    "D7 = ndarr7ch2*(10**(-7))/(3*10**(-6))#D[C/m^2]を求める\n",
    "d7 = D7*1000# D[mC/m^2]に直す\n",
    "\n",
    "ndarr6ch1 = ndarr20[5:2505,26]#スライス機能。61列の5行目から2505行目までを取り出す\n",
    "ndarr6ch2 = ndarr20[5:2505,28]#スライス機能。63列の5行目から2505行目までを取り出す\n",
    "E6 = ndarr6ch1/0.0002#E[V/m]を求める\n",
    "e6 = E6/10**(6)#E[MV/m]に直す\n",
    "D6 = ndarr6ch2*(10**(-7))/(3*10**(-6))#D[C/m^2]を求める\n",
    "d6 = D6*1000# D[mC/m^2]に直す\n",
    "\n",
    "ndarr5ch1 = ndarr20[5:2505,21]#スライス機能。61列の5行目から2505行目までを取り出す\n",
    "ndarr5ch2 = ndarr20[5:2505,23]#スライス機能。63列の5行目から2505行目までを取り出す\n",
    "E5 = ndarr5ch1/0.0002#E[V/m]を求める\n",
    "e5 = E5/10**(6)#E[MV/m]に直す\n",
    "D5 = ndarr5ch2*(10**(-7))/(3*10**(-6))#D[C/m^2]を求める\n",
    "d5 = D5*1000# D[mC/m^2]に直す\n",
    "\n",
    "ndarr4ch1 = ndarr20[5:2505,16]#スライス機能。61列の5行目から2505行目までを取り出す\n",
    "ndarr4ch2 = ndarr20[5:2505,18]#スライス機能。63列の5行目から2505行目までを取り出す\n",
    "E4 = ndarr4ch1/0.0002#E[V/m]を求める\n",
    "e4 = E4/10**(6)#E[MV/m]に直す\n",
    "D4 = ndarr4ch2*(10**(-7))/(3*10**(-6))#D[C/m^2]を求める\n",
    "d4 = D4*1000# D[mC/m^2]に直す\n",
    "\n",
    "ndarr3ch1 = ndarr20[5:2505,11]#スライス機能。61列の5行目から2505行目までを取り出す\n",
    "ndarr3ch2 = ndarr20[5:2505,13]#スライス機能。63列の5行目から2505行目までを取り出す\n",
    "E3 = ndarr3ch1/0.0002#E[V/m]を求める\n",
    "e3 = E3/10**(6)#E[MV/m]に直す\n",
    "D3 = ndarr3ch2*(10**(-7))/(3*10**(-6))#D[C/m^2]を求める\n",
    "d3 = D3*1000# D[mC/m^2]に直す\n",
    "\n",
    "ndarr2ch1 = ndarr20[5:2505,6]#スライス機能。61列の5行目から2505行目までを取り出す\n",
    "ndarr2ch2 = ndarr20[5:2505,8]#スライス機能。63列の5行目から2505行目までを取り出す\n",
    "E2 = ndarr2ch1/0.0002#E[V/m]を求める\n",
    "e2 = E2/10**(6)#E[MV/m]に直す\n",
    "D2 = ndarr2ch2*(10**(-7))/(3*10**(-6))#D[C/m^2]を求める\n",
    "d2 = D2*1000# D[mC/m^2]に直す\n",
    "\n",
    "ndarr1ch1 = ndarr20[5:2505,1]#スライス機能。61列の5行目から2505行目までを取り出す\n",
    "ndarr1ch2 = ndarr20[5:2505,3]#スライス機能。63列の5行目から2505行目までを取り出す\n",
    "E1 = ndarr1ch1/0.0002#E[V/m]を求める\n",
    "e1 = E1/10**(6)#E[MV/m]に直す\n",
    "D1 = ndarr1ch2*(10**(-7))/(3*10**(-6))#D[C/m^2]を求める\n",
    "d1 = D1*1000# D[mC/m^2]に直す\n"
   ]
  },
  {
   "cell_type": "code",
   "execution_count": 31,
   "metadata": {},
   "outputs": [
    {
     "data": {
      "image/png": "[encoded data removed]",
      "text/plain": [
       "<Figure size 350x350 with 1 Axes>"
      ]
     },
     "metadata": {
      "needs_background": "light"
     },
     "output_type": "display_data"
    }
   ],
   "source": [
    "plt.rcParams['xtick.direction'] = 'in'#x軸の目盛線が内向き('in')か外向き('out')か双方向か('inout')\n",
    "plt.rcParams['ytick.direction'] = 'in'#y軸の目盛線が内向き('in')か外向き('out')か双方向か('inout')\n",
    "\n",
    "\n",
    "plt.rcParams['xtick.major.width'] = 1.0#x軸主目盛り線の線幅\n",
    "plt.rcParams['ytick.major.width'] = 1.0#y軸主目盛り線の線幅\n",
    "\n",
    "fig1 = plt.figure( figsize=(3.5, 3.5),dpi=100)#figureオブジェクトからインスタンスを作成。\n",
    "ax = fig1.add_subplot(111)#subplotを作成。\n",
    "\n",
    "\n",
    "ax.plot(e13,d13,color='aqua',linestyle='-')#13回目の描画。色、線の種類、凡例も設定可能\n",
    "ax.plot(e12,d12,color='blue',linestyle='-')#12回目の描画。色、線の種類、凡例も設定可能\n",
    "ax.plot(e11,d11,color='lightskyblue',linestyle='-')#11回目の描画。色、線の種類、凡例も設定可能\n",
    "ax.plot(e10,d10,color='yellow',linestyle='-')#10回目の描画。色、線の種類、凡例も設定可能\n",
    "ax.plot(e9,d9,color='greenyellow',linestyle='-')#9回目の描画。色、線の種類、凡例も設定可能\n",
    "ax.plot(e8,d8,color='palegreen',linestyle='-')#8回目の描画。色、線の種類、凡例も設定可能\n",
    "ax.plot(e7,d7,color='darkviolet',linestyle='-')#8回目の描画。色、線の種類、凡例も設定可能\n",
    "ax.plot(e6,d6,color='magenta',linestyle='-')#8回目の描\n",
    "ax.plot(e5,d5,color='pink',linestyle='-')#8回目の描\n",
    "ax.plot(e4,d4,color='brown',linestyle='-')#8回目の描\n",
    "ax.plot(e3,d3,color='red',linestyle='-')#8回目の描\n",
    "ax.plot(e2,d2,color='salmon',linestyle='-')#8回目の描\n",
    "ax.plot(e1,d1,color='orangered',linestyle='-')#8回目の描\n",
    "\n",
    "\n",
    "\n",
    "x1 = np.arange(-1, 1.5, 0.5)# -1～1まで0.5刻みのデータを作成\n",
    "y1 = 0*x1 # 直線の式を定義\n",
    "ax.plot(x1, y1, color = \"black\")# 直線をプロット\n",
    "\n",
    "x2 = np.arange(-900,1000,100 )# -60～65まで5刻みのデータを作成\n",
    "y2 = 0*x2 # 直線の式を定義\n",
    "ax.plot(y2, x2, color = \"black\")# 直線をプロット\n",
    "\n",
    "ax.set_xlim([-1,1])#第1軸x軸の範囲\n",
    "ax.set_xticks([-1,-0.5,0,0.5,1])#第1軸x軸の主目盛り\n",
    "\n",
    "ax.set_ylim([-900,900])#第1軸y軸の範囲\n",
    "ax.set_yticks([-900,-600,-300,0,300,600,900])#第1軸y軸の主目盛り\n",
    "\n",
    "ax.minorticks_on()\n",
    "\n",
    "\n",
    "\n",
    "x1 = np.arange(-1.0, 1.5, 0.5)# -1～1まで0.5刻みのデータを作成\n",
    "y1 = 0*x1 # 直線の式を定義\n",
    "ax.plot(x1, y1, color = \"black\")# 直線をプロット\n",
    "\n",
    "ax.grid(axis='both',which='both')\n",
    "\n",
    "\n",
    "ax.set_xlabel(\"Electric Field (MV/m)\", {\"fontsize\":10})#横軸のラベルと字の大きさ設定\n",
    "ax.set_ylabel(\"Electric Displacement (mC/m$^{2}$)\", {\"fontsize\": 10})#縦軸のラベルと字の大きさ設定\n",
    "\n",
    "plt.show()"
   ]
  },
  {
   "cell_type": "code",
   "execution_count": 69,
   "metadata": {},
   "outputs": [
    {
     "name": "stdout",
     "output_type": "stream",
     "text": [
      "paramater = (array([236.36363636, 610.90909091]), array([[inf, inf],\n",
      "       [inf, inf]]))\n"
     ]
    }
   ],
   "source": [
    "m13=np.array([0.8,0.91])\n",
    "n13=np.array([800,826])\n",
    "\n",
    "from scipy import optimize\n",
    "def func(x, a, b):\n",
    "    return a*x + b\n",
    "     \n",
    "paramater_optimal = optimize.curve_fit(func, m13, n13)\n",
    "\n",
    "print(\"paramater =\", paramater_optimal)"
   ]
  },
  {
   "cell_type": "code",
   "execution_count": 68,
   "metadata": {},
   "outputs": [
    {
     "name": "stdout",
     "output_type": "stream",
     "text": [
      "0.84\n",
      "773.3333333333333\n",
      "paramater = (array([212.11818182, 595.15372727]), array([[inf, inf],\n",
      "       [inf, inf]]))\n"
     ]
    }
   ],
   "source": [
    "print(e12.max())\n",
    "print(d12.max())\n",
    "m12=np.array([0.73,0.84])\n",
    "n12=np.array([750,773.333])\n",
    "\n",
    "from scipy import optimize\n",
    "def func(x, a, b):\n",
    "    return a*x + b\n",
    "     \n",
    "paramater_optimal = optimize.curve_fit(func, m12, n12)\n",
    "\n",
    "print(\"paramater =\", paramater_optimal)    "
   ]
  },
  {
   "cell_type": "code",
   "execution_count": null,
   "metadata": {},
   "outputs": [],
   "source": []
  },
  {
   "cell_type": "code",
   "execution_count": null,
   "metadata": {},
   "outputs": [],
   "source": []
  },
  {
   "cell_type": "code",
   "execution_count": null,
   "metadata": {},
   "outputs": [],
   "source": []
  },
  {
   "cell_type": "code",
   "execution_count": null,
   "metadata": {},
   "outputs": [],
   "source": []
  },
  {
   "cell_type": "code",
   "execution_count": null,
   "metadata": {},
   "outputs": [],
   "source": []
  },
  {
   "cell_type": "code",
   "execution_count": null,
   "metadata": {},
   "outputs": [],
   "source": []
  },
  {
   "cell_type": "code",
   "execution_count": null,
   "metadata": {},
   "outputs": [],
   "source": []
  },
  {
   "cell_type": "code",
   "execution_count": null,
   "metadata": {},
   "outputs": [],
   "source": []
  },
  {
   "cell_type": "code",
   "execution_count": null,
   "metadata": {},
   "outputs": [],
   "source": []
  },
  {
   "cell_type": "code",
   "execution_count": 60,
   "metadata": {},
   "outputs": [],
   "source": [
    "dd13 = d13[d13>750]\n"
   ]
  },
  {
   "cell_type": "code",
   "execution_count": 43,
   "metadata": {},
   "outputs": [
    {
     "data": {
      "text/plain": [
       "(1, 533)"
      ]
     },
     "execution_count": 43,
     "metadata": {},
     "output_type": "execute_result"
    }
   ],
   "source": [
    "dp13 = np.where(d13>720)\n",
    "\n",
    "dpn13 = np.array(dp13)\n",
    "dpn13.shape"
   ]
  },
  {
   "cell_type": "code",
   "execution_count": 59,
   "metadata": {},
   "outputs": [
    {
     "data": {
      "text/plain": [
       "(1, 533)"
      ]
     },
     "execution_count": 59,
     "metadata": {},
     "output_type": "execute_result"
    }
   ],
   "source": [
    "\n",
    "epn13 = np.array(e13[dpn13])\n",
    "epn13.shape"
   ]
  },
  {
   "cell_type": "code",
   "execution_count": null,
   "metadata": {},
   "outputs": [],
   "source": []
  },
  {
   "cell_type": "code",
   "execution_count": 48,
   "metadata": {},
   "outputs": [
    {
     "ename": "TypeError",
     "evalue": "Improper input: N=2 must not exceed M=1",
     "output_type": "error",
     "traceback": [
      "\u001b[1;31m---------------------------------------------------------------------------\u001b[0m",
      "\u001b[1;31mTypeError\u001b[0m                                 Traceback (most recent call last)",
      "\u001b[1;32m<ipython-input-48-e08c9752a5be>\u001b[0m in \u001b[0;36m<module>\u001b[1;34m\u001b[0m\n\u001b[0;32m      3\u001b[0m     \u001b[1;32mreturn\u001b[0m \u001b[0ma\u001b[0m\u001b[1;33m*\u001b[0m\u001b[0mx\u001b[0m \u001b[1;33m+\u001b[0m \u001b[0mb\u001b[0m\u001b[1;33m\u001b[0m\u001b[1;33m\u001b[0m\u001b[0m\n\u001b[0;32m      4\u001b[0m \u001b[1;33m\u001b[0m\u001b[0m\n\u001b[1;32m----> 5\u001b[1;33m \u001b[0mparamater_optimal\u001b[0m \u001b[1;33m=\u001b[0m \u001b[0moptimize\u001b[0m\u001b[1;33m.\u001b[0m\u001b[0mcurve_fit\u001b[0m\u001b[1;33m(\u001b[0m\u001b[0mfunc\u001b[0m\u001b[1;33m,\u001b[0m\u001b[0mepn13\u001b[0m\u001b[1;33m,\u001b[0m\u001b[0mdpn13\u001b[0m\u001b[1;33m)\u001b[0m\u001b[1;33m\u001b[0m\u001b[1;33m\u001b[0m\u001b[0m\n\u001b[0m\u001b[0;32m      6\u001b[0m \u001b[1;33m\u001b[0m\u001b[0m\n\u001b[0;32m      7\u001b[0m \u001b[0mprint\u001b[0m\u001b[1;33m(\u001b[0m\u001b[1;34m\"paramater =\"\u001b[0m\u001b[1;33m,\u001b[0m \u001b[0mparamater_optimal\u001b[0m\u001b[1;33m)\u001b[0m\u001b[1;33m\u001b[0m\u001b[1;33m\u001b[0m\u001b[0m\n",
      "\u001b[1;32mC:\\Anaconda3\\lib\\site-packages\\scipy\\optimize\\minpack.py\u001b[0m in \u001b[0;36mcurve_fit\u001b[1;34m(f, xdata, ydata, p0, sigma, absolute_sigma, check_finite, bounds, method, jac, **kwargs)\u001b[0m\n\u001b[0;32m    761\u001b[0m         \u001b[1;31m# Remove full_output from kwargs, otherwise we're passing it in twice.\u001b[0m\u001b[1;33m\u001b[0m\u001b[1;33m\u001b[0m\u001b[1;33m\u001b[0m\u001b[0m\n\u001b[0;32m    762\u001b[0m         \u001b[0mreturn_full\u001b[0m \u001b[1;33m=\u001b[0m \u001b[0mkwargs\u001b[0m\u001b[1;33m.\u001b[0m\u001b[0mpop\u001b[0m\u001b[1;33m(\u001b[0m\u001b[1;34m'full_output'\u001b[0m\u001b[1;33m,\u001b[0m \u001b[1;32mFalse\u001b[0m\u001b[1;33m)\u001b[0m\u001b[1;33m\u001b[0m\u001b[1;33m\u001b[0m\u001b[0m\n\u001b[1;32m--> 763\u001b[1;33m         \u001b[0mres\u001b[0m \u001b[1;33m=\u001b[0m \u001b[0mleastsq\u001b[0m\u001b[1;33m(\u001b[0m\u001b[0mfunc\u001b[0m\u001b[1;33m,\u001b[0m \u001b[0mp0\u001b[0m\u001b[1;33m,\u001b[0m \u001b[0mDfun\u001b[0m\u001b[1;33m=\u001b[0m\u001b[0mjac\u001b[0m\u001b[1;33m,\u001b[0m \u001b[0mfull_output\u001b[0m\u001b[1;33m=\u001b[0m\u001b[1;36m1\u001b[0m\u001b[1;33m,\u001b[0m \u001b[1;33m**\u001b[0m\u001b[0mkwargs\u001b[0m\u001b[1;33m)\u001b[0m\u001b[1;33m\u001b[0m\u001b[1;33m\u001b[0m\u001b[0m\n\u001b[0m\u001b[0;32m    764\u001b[0m         \u001b[0mpopt\u001b[0m\u001b[1;33m,\u001b[0m \u001b[0mpcov\u001b[0m\u001b[1;33m,\u001b[0m \u001b[0minfodict\u001b[0m\u001b[1;33m,\u001b[0m \u001b[0merrmsg\u001b[0m\u001b[1;33m,\u001b[0m \u001b[0mier\u001b[0m \u001b[1;33m=\u001b[0m \u001b[0mres\u001b[0m\u001b[1;33m\u001b[0m\u001b[1;33m\u001b[0m\u001b[0m\n\u001b[0;32m    765\u001b[0m         \u001b[0mysize\u001b[0m \u001b[1;33m=\u001b[0m \u001b[0mlen\u001b[0m\u001b[1;33m(\u001b[0m\u001b[0minfodict\u001b[0m\u001b[1;33m[\u001b[0m\u001b[1;34m'fvec'\u001b[0m\u001b[1;33m]\u001b[0m\u001b[1;33m)\u001b[0m\u001b[1;33m\u001b[0m\u001b[1;33m\u001b[0m\u001b[0m\n",
      "\u001b[1;32mC:\\Anaconda3\\lib\\site-packages\\scipy\\optimize\\minpack.py\u001b[0m in \u001b[0;36mleastsq\u001b[1;34m(func, x0, args, Dfun, full_output, col_deriv, ftol, xtol, gtol, maxfev, epsfcn, factor, diag)\u001b[0m\n\u001b[0;32m    390\u001b[0m \u001b[1;33m\u001b[0m\u001b[0m\n\u001b[0;32m    391\u001b[0m     \u001b[1;32mif\u001b[0m \u001b[0mn\u001b[0m \u001b[1;33m>\u001b[0m \u001b[0mm\u001b[0m\u001b[1;33m:\u001b[0m\u001b[1;33m\u001b[0m\u001b[1;33m\u001b[0m\u001b[0m\n\u001b[1;32m--> 392\u001b[1;33m         \u001b[1;32mraise\u001b[0m \u001b[0mTypeError\u001b[0m\u001b[1;33m(\u001b[0m\u001b[1;34m'Improper input: N=%s must not exceed M=%s'\u001b[0m \u001b[1;33m%\u001b[0m \u001b[1;33m(\u001b[0m\u001b[0mn\u001b[0m\u001b[1;33m,\u001b[0m \u001b[0mm\u001b[0m\u001b[1;33m)\u001b[0m\u001b[1;33m)\u001b[0m\u001b[1;33m\u001b[0m\u001b[1;33m\u001b[0m\u001b[0m\n\u001b[0m\u001b[0;32m    393\u001b[0m \u001b[1;33m\u001b[0m\u001b[0m\n\u001b[0;32m    394\u001b[0m     \u001b[1;32mif\u001b[0m \u001b[0mepsfcn\u001b[0m \u001b[1;32mis\u001b[0m \u001b[1;32mNone\u001b[0m\u001b[1;33m:\u001b[0m\u001b[1;33m\u001b[0m\u001b[1;33m\u001b[0m\u001b[0m\n",
      "\u001b[1;31mTypeError\u001b[0m: Improper input: N=2 must not exceed M=1"
     ]
    }
   ],
   "source": [
    "\n",
    "\n",
    "from scipy.optimize import curve_fit\n",
    "def func(x, a, b):\n",
    "    return a*x + b\n",
    "     \n",
    "paramater_optimal = optimize.curve_fit(func,epn13,dpn13)\n",
    "\n",
    "print(\"paramater =\", paramater_optimal)"
   ]
  },
  {
   "cell_type": "code",
   "execution_count": 58,
   "metadata": {},
   "outputs": [
    {
     "name": "stdout",
     "output_type": "stream",
     "text": [
      "paramater = (array([236.36363636, 610.90909091]), array([[inf, inf],\n",
      "       [inf, inf]]))\n"
     ]
    }
   ],
   "source": [
    "m13=np.array([0.8,0.91])\n",
    "n13=np.array([800,826])\n",
    "\n",
    "from scipy import optimize\n",
    "def func(x, a, b):\n",
    "    return a*x + b\n",
    "     \n",
    "paramater_optimal = optimize.curve_fit(func, m13, n13)\n",
    "\n",
    "print(\"paramater =\", paramater_optimal)"
   ]
  },
  {
   "cell_type": "code",
   "execution_count": null,
   "metadata": {},
   "outputs": [],
   "source": [
    "m11=np.array([0.7,0.75])\n",
    "n11=np.array([720,750])\n",
    "\n",
    "from scipy import optimize\n",
    "def func(x, a, b):\n",
    "    return a*x + b\n",
    "     \n",
    "paramater_optimal = optimize.curve_fit(func, m12, n12)\n",
    "\n",
    "print(\"paramater =\", paramater_optimal)"
   ]
  },
  {
   "cell_type": "code",
   "execution_count": null,
   "metadata": {},
   "outputs": [],
   "source": []
  },
  {
   "cell_type": "code",
   "execution_count": null,
   "metadata": {},
   "outputs": [],
   "source": []
  },
  {
   "cell_type": "code",
   "execution_count": null,
   "metadata": {},
   "outputs": [],
   "source": []
  },
  {
   "cell_type": "code",
   "execution_count": null,
   "metadata": {},
   "outputs": [],
   "source": []
  },
  {
   "cell_type": "code",
   "execution_count": null,
   "metadata": {},
   "outputs": [],
   "source": []
  },
  {
   "cell_type": "code",
   "execution_count": 9,
   "metadata": {},
   "outputs": [
    {
     "name": "stdout",
     "output_type": "stream",
     "text": [
      "0.91\n",
      "-0.9\n",
      "826.6666666666666\n",
      "-826.6666666666666\n"
     ]
    }
   ],
   "source": [
    "print(e13.max())\n",
    "print(e13.min())\n",
    "print(d13.max())\n",
    "print(d13.min())\n"
   ]
  },
  {
   "cell_type": "code",
   "execution_count": null,
   "metadata": {},
   "outputs": [],
   "source": []
  }
 ],
 "metadata": {
  "kernelspec": {
   "display_name": "Python 3",
   "language": "python",
   "name": "python3"
  },
  "language_info": {
   "codemirror_mode": {
    "name": "ipython",
    "version": 3
   },
   "file_extension": ".py",
   "mimetype": "text/x-python",
   "name": "python",
   "nbconvert_exporter": "python",
   "pygments_lexer": "ipython3",
   "version": "3.7.7"
  }
 },
 "nbformat": 4,
 "nbformat_minor": 4
}
